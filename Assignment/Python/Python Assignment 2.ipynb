{
 "cells": [
  {
   "cell_type": "markdown",
   "id": "40242932",
   "metadata": {},
   "source": [
    "#### 1.write a function t find the max of three"
   ]
  },
  {
   "cell_type": "code",
   "execution_count": 7,
   "id": "949826db",
   "metadata": {},
   "outputs": [
    {
     "name": "stdout",
     "output_type": "stream",
     "text": [
      "Enter first number34\n",
      "Enter second number23\n",
      "Enter third number6\n",
      "max is 34\n",
      "largest among three is  34\n"
     ]
    }
   ],
   "source": [
    "\n",
    "def maximum():\n",
    "    if (n1>=n2) and (n1>=n3):\n",
    "        l=n1\n",
    "        print(\"max is\", n1)\n",
    "    elif (n2>=n1) and (n2>=n3):\n",
    "        l=n2\n",
    "        print(\"max is\",n2)\n",
    "    else:\n",
    "        l=n3\n",
    "        print(\"max is \",n3)\n",
    "    print(\"largest among three is \",l)\n",
    "n1=int(input(\"Enter first number\"))\n",
    "n2=int(input(\"Enter second number\"))\n",
    "n3=int(input(\"Enter third number\"))\n",
    "maximum()\n"
   ]
  },
  {
   "cell_type": "markdown",
   "id": "0467b4c3",
   "metadata": {},
   "source": [
    "#### 2. Function to find the sum of numbers ina list "
   ]
  },
  {
   "cell_type": "code",
   "execution_count": 10,
   "id": "8345632e",
   "metadata": {},
   "outputs": [
    {
     "name": "stdout",
     "output_type": "stream",
     "text": [
      "How many numbers:3\n",
      "Enter number3\n",
      "Enter number4\n",
      "Enter number2\n",
      "sum of list is 9\n"
     ]
    }
   ],
   "source": [
    "def addition():\n",
    "    \n",
    "    list1=[]\n",
    "    num=int(input(\"How many numbers:\"))\n",
    "    for n in range(num):\n",
    "        n=int(input(\"Enter number\"))\n",
    "        list1.append(n)\n",
    "\n",
    "addition()\n",
    "print(\"sum of list is\",sum(list1))"
   ]
  },
  {
   "cell_type": "markdown",
   "id": "bdc1fbf0",
   "metadata": {},
   "source": [
    "#### 3. Function to multiply elements in the list"
   ]
  },
  {
   "cell_type": "code",
   "execution_count": 13,
   "id": "f85aa599",
   "metadata": {},
   "outputs": [
    {
     "name": "stdout",
     "output_type": "stream",
     "text": [
      "How many numbers:3\n",
      "Enter number2\n",
      "Enter number3\n",
      "Enter number4\n",
      "24\n"
     ]
    }
   ],
   "source": [
    "def product():\n",
    "    list1 = []\n",
    "    p=1\n",
    "    num = int(input(\"How many numbers:\"))\n",
    "    for n in range(num):\n",
    "        n = int(input(\"Enter number\"))\n",
    "        list1.append(n)\n",
    "        p=p*n\n",
    "    print(p)\n",
    "product()"
   ]
  },
  {
   "cell_type": "markdown",
   "id": "d235a339",
   "metadata": {},
   "source": [
    "### function to reverse a string"
   ]
  },
  {
   "cell_type": "code",
   "execution_count": 18,
   "id": "4f3d2385",
   "metadata": {},
   "outputs": [
    {
     "name": "stdout",
     "output_type": "stream",
     "text": [
      "enter the stringpython\n",
      "nohtyp\n"
     ]
    }
   ],
   "source": [
    "def reverse():\n",
    "    s=input(\"enter the string\")\n",
    "    index=len(s)\n",
    "    rev=s[index::-1]\n",
    "    print(rev)\n",
    "reverse()\n"
   ]
  },
  {
   "cell_type": "markdown",
   "id": "bcd844f4",
   "metadata": {},
   "source": [
    "#### function for factorial of a number"
   ]
  },
  {
   "cell_type": "code",
   "execution_count": 25,
   "id": "69c070c1",
   "metadata": {},
   "outputs": [
    {
     "name": "stdout",
     "output_type": "stream",
     "text": [
      "Enter number4\n",
      "24\n"
     ]
    }
   ],
   "source": [
    "def factorial():\n",
    "    p=1\n",
    "    n =int(input(\"Enter number\"))\n",
    "    for i in range(1,n+1):\n",
    "        p=p*i\n",
    "        i=i+1\n",
    "    print(p)\n",
    "\n",
    "factorial()\n"
   ]
  },
  {
   "cell_type": "markdown",
   "id": "83912e7d",
   "metadata": {},
   "source": [
    "#### to count the uppercase letters and lower case letters"
   ]
  },
  {
   "cell_type": "code",
   "execution_count": 27,
   "id": "544f5f18",
   "metadata": {},
   "outputs": [
    {
     "name": "stdout",
     "output_type": "stream",
     "text": [
      "A Big Fat FOX\n",
      "Original String :  A Big Fat FOX\n",
      "No. of Upper case characters :  6\n",
      "No. of Lower case Characters :  4\n"
     ]
    }
   ],
   "source": [
    "def string_test():\n",
    "    s=input()\n",
    "    d={\"UPPER_CASE\":0, \"LOWER_CASE\":0}\n",
    "    for c in s:\n",
    "        if c.isupper():\n",
    "           d[\"UPPER_CASE\"]+=1\n",
    "        elif c.islower():\n",
    "           d[\"LOWER_CASE\"]+=1\n",
    "        else:\n",
    "           pass\n",
    "    print (\"Original String : \", s)\n",
    "    print (\"No. of Upper case characters : \", d[\"UPPER_CASE\"])\n",
    "    print (\"No. of Lower case Characters : \", d[\"LOWER_CASE\"])\n",
    "\n",
    "string_test()"
   ]
  },
  {
   "cell_type": "markdown",
   "id": "a6451174",
   "metadata": {},
   "source": [
    "#### Function that takes a list and creates anew list with unique elements"
   ]
  },
  {
   "cell_type": "code",
   "execution_count": 12,
   "id": "723830db",
   "metadata": {},
   "outputs": [
    {
     "name": "stdout",
     "output_type": "stream",
     "text": [
      "How many numbers:3\n",
      "Enter number1\n",
      "Enter number2\n",
      "Enter number1\n",
      "[1, 2, 1]\n",
      "[1, 2]\n"
     ]
    }
   ],
   "source": [
    "def unique():\n",
    "    list1 = []\n",
    "\n",
    "    num = int(input(\"How many numbers:\"))\n",
    "    for n in range(num):\n",
    "        n = int(input(\"Enter number\"))\n",
    "        list1.append(n)\n",
    "    print(list1)\n",
    "    list2=[]\n",
    "    for a in list1:\n",
    "        if a not in list2:\n",
    "            list2.append(a)\n",
    "    print(list2)\n",
    "unique()\n"
   ]
  },
  {
   "cell_type": "code",
   "execution_count": null,
   "id": "efbd0828",
   "metadata": {},
   "outputs": [],
   "source": []
  }
 ],
 "metadata": {
  "kernelspec": {
   "display_name": "Python 3 (ipykernel)",
   "language": "python",
   "name": "python3"
  },
  "language_info": {
   "codemirror_mode": {
    "name": "ipython",
    "version": 3
   },
   "file_extension": ".py",
   "mimetype": "text/x-python",
   "name": "python",
   "nbconvert_exporter": "python",
   "pygments_lexer": "ipython3",
   "version": "3.9.7"
  }
 },
 "nbformat": 4,
 "nbformat_minor": 5
}
